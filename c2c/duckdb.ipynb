{
 "cells": [
  {
   "metadata": {
    "ExecuteTime": {
     "end_time": "2024-07-11T14:13:44.731765Z",
     "start_time": "2024-07-11T14:13:44.728531Z"
    }
   },
   "cell_type": "code",
   "source": [
    "import duckdb\n",
    "from lonboard import Map, PolygonLayer, viz\n",
    "from lonboard.colormap import apply_continuous_cmap, apply_categorical_cmap\n",
    "from matplotlib.colors import LogNorm\n",
    "from palettable.colorbrewer.sequential import Oranges_6\n",
    "import palettable.colorbrewer.diverging\n",
    "from matplotlib.colors import LogNorm\n",
    "\n"
   ],
   "id": "81b4cbbd8e68a763",
   "outputs": [],
   "execution_count": 101
  },
  {
   "metadata": {
    "ExecuteTime": {
     "end_time": "2024-07-11T14:13:44.740794Z",
     "start_time": "2024-07-11T14:13:44.737938Z"
    }
   },
   "cell_type": "code",
   "source": "duckdb.sql('install spatial;load spatial;')",
   "id": "9934fec1489150c8",
   "outputs": [],
   "execution_count": 102
  },
  {
   "metadata": {
    "ExecuteTime": {
     "end_time": "2024-07-11T14:13:44.750836Z",
     "start_time": "2024-07-11T14:13:44.742057Z"
    }
   },
   "cell_type": "code",
   "source": [
    "query = duckdb.sql(\"\"\"\n",
    "    WITH areas AS (\n",
    "        SELECT names.primary as name,\n",
    "               ST_GeomFromWKB(geometry) as area_geom\n",
    "        FROM '../data/bretagne-division_area.parquet'\n",
    "        WHERE subtype = 'locality' and region = 'FR-BRE'\n",
    "        ),\n",
    "    schools AS (\n",
    "        SELECT ST_GeomFromWKB(geometry) as school_geom\n",
    "        FROM '../data/bretagne-place.parquet'\n",
    "        WHERE categories.main = 'school'\n",
    "        )\n",
    "    SELECT name, area_geom, count(school_geom) as school_count, count(school_geom) as count \n",
    "    FROM areas LEFT JOIN schools ON ST_Contains(area_geom, school_geom)\n",
    "    GROUP BY area_geom, name\n",
    "\"\"\")"
   ],
   "id": "1ab773e7fb45e212",
   "outputs": [],
   "execution_count": 103
  },
  {
   "metadata": {
    "ExecuteTime": {
     "end_time": "2024-07-11T14:13:44.760278Z",
     "start_time": "2024-07-11T14:13:44.752590Z"
    }
   },
   "cell_type": "code",
   "source": "Oranges_6.mpl_colormap",
   "id": "a4e089d4e7e79f33",
   "outputs": [
    {
     "data": {
      "text/plain": [
       "<matplotlib.colors.LinearSegmentedColormap at 0x784d0da364d0>"
      ],
      "text/html": [
       "<div style=\"vertical-align: middle;\"><strong>Oranges</strong> </div><div class=\"cmap\"><img alt=\"Oranges colormap\" title=\"Oranges\" style=\"border: 1px solid #555;\" src=\"data:image/png;base64,iVBORw0KGgoAAAANSUhEUgAAAgAAAABACAYAAABsv8+/AAAAFnRFWHRUaXRsZQBPcmFuZ2VzIGNvbG9ybWFwAJwLXwAAABx0RVh0RGVzY3JpcHRpb24AT3JhbmdlcyBjb2xvcm1hcKeyuiYAAAAwdEVYdEF1dGhvcgBNYXRwbG90bGliIHYzLjcuNSwgaHR0cHM6Ly9tYXRwbG90bGliLm9yZ9ESsrYAAAAydEVYdFNvZnR3YXJlAE1hdHBsb3RsaWIgdjMuNy41LCBodHRwczovL21hdHBsb3RsaWIub3Jn/7QtkQAAActJREFUeJzt1ltOAyEAQFF0/2t0B25hxg8bE6korY+Y3HN+LMgAjsbch+P56RxjjPM8xnj9MC4fFuPj4+8vn/ti3939r57bXDfv++W6xb3/+ufbvfe35397/zv/bu6e3/y9/fv58fn6Hztv3Lj+3vPGjetvvcdleLyfP8/vjccxz4+t55bj7fvtnXN9v1vH0zk//f4uX495enx43DjH+W789l9jse6Y9rt6PdN+87pjce72/Vbnz/dbnT+fuzp/se7q/Wzf79XjAAByBAAABAkAAAgSAAAQJAAAIEgAAECQAACAIAEAAEECAACCBAAABAkAAAgSAAAQJAAAIEgAAECQAACAIAEAAEECAACCBAAABAkAAAgSAAAQJAAAIEgAAECQAACAIAEAAEECAACCBAAABAkAAAgSAAAQJAAAIEgAAECQAACAIAEAAEECAACCBAAABAkAAAgSAAAQJAAAIEgAAECQAACAIAEAAEECAACCBAAABAkAAAgSAAAQJAAAIEgAAECQAACAIAEAAEECAACCBAAABAkAAAgSAAAQJAAAIEgAAECQAACAIAEAAEECAACCBAAABAkAAAgSAAAQJAAAIEgAAECQAACAoBctuM1tEFIMdAAAAABJRU5ErkJggg==\"></div><div style=\"vertical-align: middle; max-width: 514px; display: flex; justify-content: space-between;\"><div style=\"float: left;\"><div title=\"#feeddeff\" style=\"display: inline-block; width: 1em; height: 1em; margin: 0; vertical-align: middle; border: 1px solid #555; background-color: #feeddeff;\"></div> under</div><div style=\"margin: 0 auto; display: inline-block;\">bad <div title=\"#00000000\" style=\"display: inline-block; width: 1em; height: 1em; margin: 0; vertical-align: middle; border: 1px solid #555; background-color: #00000000;\"></div></div><div style=\"float: right;\">over <div title=\"#a63603ff\" style=\"display: inline-block; width: 1em; height: 1em; margin: 0; vertical-align: middle; border: 1px solid #555; background-color: #a63603ff;\"></div></div>"
      ],
      "image/png": "[encoded data removed]"
     },
     "execution_count": 104,
     "metadata": {},
     "output_type": "execute_result"
    }
   ],
   "execution_count": 104
  },
  {
   "metadata": {
    "ExecuteTime": {
     "end_time": "2024-07-11T14:13:58.242522Z",
     "start_time": "2024-07-11T14:13:44.761485Z"
    }
   },
   "cell_type": "code",
   "source": [
    "gdf = query.df()\n",
    "gdf.head()"
   ],
   "id": "651d88c284d18f43",
   "outputs": [
    {
     "data": {
      "text/plain": [
       "FloatProgress(value=0.0, layout=Layout(width='auto'), style=ProgressStyle(bar_color='black'))"
      ],
      "application/vnd.jupyter.widget-view+json": {
       "version_major": 2,
       "version_minor": 0,
       "model_id": "cf45117f022147f2addeba119373506b"
      }
     },
     "metadata": {},
     "output_type": "display_data"
    },
    {
     "data": {
      "text/plain": [
       "                    name                                          area_geom  \\\n",
       "0                Lorient  [5, 4, 0, 0, 0, 0, 0, 0, 134, 68, 90, 192, 147...   \n",
       "1              Plouhinec  [2, 4, 0, 0, 0, 0, 0, 0, 210, 101, 83, 192, 18...   \n",
       "2  Saint-Gildas-de-Rhuys  [2, 4, 0, 0, 0, 0, 0, 0, 155, 158, 55, 192, 88...   \n",
       "3           Larmor-Baden  [5, 4, 0, 0, 0, 0, 0, 0, 163, 135, 58, 192, 13...   \n",
       "4                Ploeren  [2, 4, 0, 0, 0, 0, 0, 0, 249, 145, 56, 192, 10...   \n",
       "\n",
       "   school_count  count  \n",
       "0            14     14  \n",
       "1             2      2  \n",
       "2             2      2  \n",
       "3             2      2  \n",
       "4             1      1  "
      ],
      "text/html": [
       "<div>\n",
       "<style scoped>\n",
       "    .dataframe tbody tr th:only-of-type {\n",
       "        vertical-align: middle;\n",
       "    }\n",
       "\n",
       "    .dataframe tbody tr th {\n",
       "        vertical-align: top;\n",
       "    }\n",
       "\n",
       "    .dataframe thead th {\n",
       "        text-align: right;\n",
       "    }\n",
       "</style>\n",
       "<table border=\"1\" class=\"dataframe\">\n",
       "  <thead>\n",
       "    <tr style=\"text-align: right;\">\n",
       "      <th></th>\n",
       "      <th>name</th>\n",
       "      <th>area_geom</th>\n",
       "      <th>school_count</th>\n",
       "      <th>count</th>\n",
       "    </tr>\n",
       "  </thead>\n",
       "  <tbody>\n",
       "    <tr>\n",
       "      <th>0</th>\n",
       "      <td>Lorient</td>\n",
       "      <td>[5, 4, 0, 0, 0, 0, 0, 0, 134, 68, 90, 192, 147...</td>\n",
       "      <td>14</td>\n",
       "      <td>14</td>\n",
       "    </tr>\n",
       "    <tr>\n",
       "      <th>1</th>\n",
       "      <td>Plouhinec</td>\n",
       "      <td>[2, 4, 0, 0, 0, 0, 0, 0, 210, 101, 83, 192, 18...</td>\n",
       "      <td>2</td>\n",
       "      <td>2</td>\n",
       "    </tr>\n",
       "    <tr>\n",
       "      <th>2</th>\n",
       "      <td>Saint-Gildas-de-Rhuys</td>\n",
       "      <td>[2, 4, 0, 0, 0, 0, 0, 0, 155, 158, 55, 192, 88...</td>\n",
       "      <td>2</td>\n",
       "      <td>2</td>\n",
       "    </tr>\n",
       "    <tr>\n",
       "      <th>3</th>\n",
       "      <td>Larmor-Baden</td>\n",
       "      <td>[5, 4, 0, 0, 0, 0, 0, 0, 163, 135, 58, 192, 13...</td>\n",
       "      <td>2</td>\n",
       "      <td>2</td>\n",
       "    </tr>\n",
       "    <tr>\n",
       "      <th>4</th>\n",
       "      <td>Ploeren</td>\n",
       "      <td>[2, 4, 0, 0, 0, 0, 0, 0, 249, 145, 56, 192, 10...</td>\n",
       "      <td>1</td>\n",
       "      <td>1</td>\n",
       "    </tr>\n",
       "  </tbody>\n",
       "</table>\n",
       "</div>"
      ]
     },
     "execution_count": 105,
     "metadata": {},
     "output_type": "execute_result"
    }
   ],
   "execution_count": 105
  },
  {
   "metadata": {
    "ExecuteTime": {
     "end_time": "2024-07-11T14:13:58.246599Z",
     "start_time": "2024-07-11T14:13:58.244006Z"
    }
   },
   "cell_type": "code",
   "source": "",
   "id": "222bd5d10fb3ab8a",
   "outputs": [],
   "execution_count": 105
  },
  {
   "metadata": {
    "ExecuteTime": {
     "end_time": "2024-07-11T14:13:58.255929Z",
     "start_time": "2024-07-11T14:13:58.248608Z"
    }
   },
   "cell_type": "code",
   "source": [
    "df_school = gdf[\"school_count\"]\n",
    "normalizer= LogNorm(1, df_school.max(), clip=True)\n",
    "\n",
    "normalized_count = normalizer(df_school)\n",
    "normalized_count"
   ],
   "id": "afed4c37ec13dbbc",
   "outputs": [
    {
     "data": {
      "text/plain": [
       "masked_array(data=[0.5465795043985202, 0.14355885269113103,\n",
       "                   0.14355885269113103, ..., 0.0, 0.0, 0.0],\n",
       "             mask=[False, False, False, ..., False, False, False],\n",
       "       fill_value=1e+20)"
      ]
     },
     "execution_count": 106,
     "metadata": {},
     "output_type": "execute_result"
    }
   ],
   "execution_count": 106
  },
  {
   "metadata": {
    "ExecuteTime": {
     "end_time": "2024-07-11T14:14:25.447966Z",
     "start_time": "2024-07-11T14:13:58.258717Z"
    }
   },
   "cell_type": "code",
   "source": [
    "layer = PolygonLayer.from_duckdb(\n",
    "    query,\n",
    "    get_line_color=[200,200,200],\n",
    "    line_width_units='pixels',\n",
    ")\n",
    "layer.get_fill_color = [100,100,100]\n"
   ],
   "id": "274ecfce10132733",
   "outputs": [
    {
     "data": {
      "text/plain": [
       "FloatProgress(value=0.0, layout=Layout(width='auto'), style=ProgressStyle(bar_color='black'))"
      ],
      "application/vnd.jupyter.widget-view+json": {
       "version_major": 2,
       "version_minor": 0,
       "model_id": "39b94d2c084f4eb09dcc9f2b741da794"
      }
     },
     "metadata": {},
     "output_type": "display_data"
    },
    {
     "data": {
      "text/plain": [
       "FloatProgress(value=0.0, layout=Layout(width='auto'), style=ProgressStyle(bar_color='black'))"
      ],
      "application/vnd.jupyter.widget-view+json": {
       "version_major": 2,
       "version_minor": 0,
       "model_id": "6bfe2883049248dc8a14781127b29b7e"
      }
     },
     "metadata": {},
     "output_type": "display_data"
    },
    {
     "name": "stderr",
     "output_type": "stream",
     "text": [
      "/home/fgravin/dev/rnd/overturemaps/overturemaps-py/.venv/lib/python3.11/site-packages/lonboard/_geoarrow/ops/reproject.py:23: UserWarning: No CRS exists on data. If no data is shown on the map, double check that your CRS is WGS84.\n",
      "  warn(\n"
     ]
    }
   ],
   "execution_count": 107
  },
  {
   "metadata": {},
   "cell_type": "code",
   "source": [
    "m = Map(layer)\n",
    "m\n"
   ],
   "id": "533e71e23c05f2ec",
   "outputs": [
    {
     "data": {
      "text/plain": [
       "Map(layers=[PolygonLayer(get_fill_color=[100, 100, 100], get_line_color=[200, 200, 200], line_width_units='pix…"
      ],
      "application/vnd.jupyter.widget-view+json": {
       "version_major": 2,
       "version_minor": 1,
       "model_id": "35a8649573c04819bab9df4b82891394"
      }
     },
     "execution_count": 108,
     "metadata": {},
     "output_type": "execute_result"
    }
   ],
   "execution_count": 108
  },
  {
   "metadata": {},
   "cell_type": "code",
   "source": [
    "layer.get_fill_color = apply_continuous_cmap(\n",
    "    normalized_count, Oranges_6, alpha=0.9\n",
    ")\n"
   ],
   "id": "2a7a33ebd0ca9df0",
   "outputs": [],
   "execution_count": 109
  },
  {
   "metadata": {},
   "cell_type": "code",
   "source": "",
   "id": "d3c122e3bbc36e28",
   "outputs": [],
   "execution_count": 109
  }
 ],
 "metadata": {
  "kernelspec": {
   "display_name": "Python 3",
   "language": "python",
   "name": "python3"
  },
  "language_info": {
   "codemirror_mode": {
    "name": "ipython",
    "version": 2
   },
   "file_extension": ".py",
   "mimetype": "text/x-python",
   "name": "python",
   "nbconvert_exporter": "python",
   "pygments_lexer": "ipython2",
   "version": "2.7.6"
  }
 },
 "nbformat": 4,
 "nbformat_minor": 5
}
